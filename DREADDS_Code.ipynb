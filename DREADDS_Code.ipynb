{
  "nbformat": 4,
  "nbformat_minor": 0,
  "metadata": {
    "colab": {
      "name": "DREADDS Code",
      "provenance": [],
      "collapsed_sections": [],
      "authorship_tag": "ABX9TyM9+DjyjEGLAA+RWD9Sjfxu",
      "include_colab_link": true
    },
    "kernelspec": {
      "name": "python3",
      "display_name": "Python 3"
    },
    "language_info": {
      "name": "python"
    },
    "accelerator": "GPU"
  },
  "cells": [
    {
      "cell_type": "markdown",
      "metadata": {
        "id": "view-in-github",
        "colab_type": "text"
      },
      "source": [
        "<a href=\"https://colab.research.google.com/github/leafy18/DREADDs/blob/main/DREADDS_Code.ipynb\" target=\"_parent\"><img src=\"https://colab.research.google.com/assets/colab-badge.svg\" alt=\"Open In Colab\"/></a>"
      ]
    },
    {
      "cell_type": "markdown",
      "metadata": {
        "id": "ZvrDg587cWI6"
      },
      "source": [
        "# Importing Database\n",
        "\n"
      ]
    },
    {
      "cell_type": "code",
      "metadata": {
        "id": "2L2_j9y34zZ-"
      },
      "source": [
        "from google.colab import auth\n",
        "auth.authenticate_user()\n",
        "import gspread\n",
        "from oauth2client.client import GoogleCredentials\n",
        "gc = gspread.authorize(GoogleCredentials.get_application_default())"
      ],
      "execution_count": null,
      "outputs": []
    },
    {
      "cell_type": "code",
      "metadata": {
        "id": "WtcGe6s16qVi"
      },
      "source": [
        "import pandas as pd\n",
        "import matplotlib.pyplot"
      ],
      "execution_count": null,
      "outputs": []
    },
    {
      "cell_type": "code",
      "metadata": {
        "id": "a7Re_Y7T7Dyg"
      },
      "source": [
        "wb= gc.open_by_url('https://docs.google.com/spreadsheets/d/1ohwsCp7oO9Z3TwTxAvSP2VpWx6utIhXXNM-yc5hx0wE/edit#gid=500207742')\n"
      ],
      "execution_count": null,
      "outputs": []
    },
    {
      "cell_type": "code",
      "metadata": {
        "id": "H8T1dgQH7ROD"
      },
      "source": [
        "sheet= wb.worksheet('Database(NHP)')"
      ],
      "execution_count": null,
      "outputs": []
    },
    {
      "cell_type": "code",
      "metadata": {
        "id": "oI_C8ag77wMy"
      },
      "source": [
        "data= sheet.get_all_values()"
      ],
      "execution_count": null,
      "outputs": []
    },
    {
      "cell_type": "markdown",
      "metadata": {
        "id": "2M4__PC2MVya"
      },
      "source": [
        "# Species Count"
      ]
    },
    {
      "cell_type": "code",
      "metadata": {
        "colab": {
          "base_uri": "https://localhost:8080/"
        },
        "id": "LKXhTqMb76bN",
        "outputId": "3893efc2-ad26-4c53-84b3-74ddc1eca47a"
      },
      "source": [
        "'''To count the number of species in the given dataset'''\n",
        "df = pd.DataFrame(data)\n",
        "#print(df[4])\n",
        "values= df[4].value_counts()\n",
        "print(values)"
      ],
      "execution_count": null,
      "outputs": [
        {
          "output_type": "stream",
          "name": "stdout",
          "text": [
            "Rhesus              297\n",
            "Japanese macaque     25\n",
            "Marmoset              7\n",
            "cynomolgus            4\n",
            "Species               1\n",
            "Name: 4, dtype: int64\n"
          ]
        }
      ]
    },
    {
      "cell_type": "markdown",
      "metadata": {
        "id": "LeEhT_DUO0Lj"
      },
      "source": [
        "# Species Popularity Pie Chart"
      ]
    },
    {
      "cell_type": "code",
      "metadata": {
        "colab": {
          "base_uri": "https://localhost:8080/",
          "height": 248
        },
        "id": "g7BeC7FGNRp7",
        "outputId": "2de4de21-5cd8-4c56-8b46-b4302ad87306"
      },
      "source": [
        "'''Plotting the species piechart'''\n",
        "from google.colab import files\n",
        " \n",
        "import matplotlib.pyplot as plt\n",
        "import numpy as np\n",
        "y= np.array(values[0:4]) \n",
        "mylabels=[\"Rhesus\",\"Japanese macaque\",\"Marmoset\",\"fasicularis\"]\n",
        "plt.pie(y,labels= mylabels)\n",
        "\n",
        "plt.savefig(\"Fig1.png\")\n",
        "plt.show()\n",
        "\n"
      ],
      "execution_count": null,
      "outputs": [
        {
          "output_type": "display_data",
          "data": {
            "image/png": "[encoded data removed]",
            "text/plain": [
              "<Figure size 432x288 with 1 Axes>"
            ]
          },
          "metadata": {}
        }
      ]
    },
    {
      "cell_type": "markdown",
      "metadata": {
        "id": "0QlglR9EUtoF"
      },
      "source": [
        "# Viral Vector Popularity code"
      ]
    },
    {
      "cell_type": "code",
      "metadata": {
        "colab": {
          "base_uri": "https://localhost:8080/"
        },
        "id": "AxdhjXUmPD8b",
        "outputId": "25a3a87a-d880-43b4-8259-79c270f8baf3"
      },
      "source": [
        "''' Viral Vector '''\n",
        "df = pd.DataFrame(data)\n",
        "#print(df[4])\n",
        "vector_values= df[6].value_counts()\n",
        "vector_values= vector_values.drop(labels= 'Viral Vector')\n",
        "print(vector_values)"
      ],
      "execution_count": null,
      "outputs": [
        {
          "output_type": "stream",
          "name": "stdout",
          "text": [
            "Lenti    127\n",
            "AAV2      48\n",
            "AAV1      38\n",
            "AAV5      34\n",
            "AAV8      19\n",
            "AAV7      18\n",
            "AAV6      18\n",
            "rAAV2     12\n",
            "AAV        5\n",
            "AAV9       4\n",
            "FuG        2\n",
            "AAV3       2\n",
            "AAV4       2\n",
            "           1\n",
            "AAV10      1\n",
            "AAV12      1\n",
            "AAV11      1\n",
            "Name: 6, dtype: int64\n"
          ]
        }
      ]
    },
    {
      "cell_type": "markdown",
      "metadata": {
        "id": "xnwWDQ7MU7hu"
      },
      "source": [
        "# Viral Vector Popularity Plot"
      ]
    },
    {
      "cell_type": "code",
      "metadata": {
        "colab": {
          "base_uri": "https://localhost:8080/",
          "height": 248
        },
        "id": "GYKEVUi6PfgI",
        "outputId": "167b5917-f2d3-4738-8760-87cee4e57080"
      },
      "source": [
        "'''Plotting the viral vector piechart'''\n",
        "import matplotlib.pyplot as plt\n",
        "import numpy as np\n",
        "y= np.array(vector_values[0:16]) \n",
        "mylabels_vv=[\"Lenti\",\"AAV2\",\"AAV 1\",\"AAV5\",\"AAV8\",\"AAV6\",\"AAV7\",\"rAAV2\",\"AAV\",\"AAV9\",\"AAV3\",\"AAV4\",\"FuG\",\"AAV11\",\"AAV12\",\"AAV10\"]\n",
        "plt.pie(y,labels= mylabels_vv)\n",
        "\n",
        "plt.savefig('Fig 2')\n",
        "plt.show()"
      ],
      "execution_count": null,
      "outputs": [
        {
          "output_type": "display_data",
          "data": {
            "image/png": "[encoded data removed]",
            "text/plain": [
              "<Figure size 432x288 with 1 Axes>"
            ]
          },
          "metadata": {}
        }
      ]
    },
    {
      "cell_type": "markdown",
      "metadata": {
        "id": "A7wJPghPVveB"
      },
      "source": [
        "# Promoter Popularity Code"
      ]
    },
    {
      "cell_type": "code",
      "metadata": {
        "colab": {
          "base_uri": "https://localhost:8080/"
        },
        "id": "_zxHkKyvVF-Z",
        "outputId": "44298900-c060-4c41-a1fe-6a5dd2a3432d"
      },
      "source": [
        "''' Promoter popularity code '''\n",
        "df = pd.DataFrame(data)\n",
        "#print(df[4])\n",
        "promoter_values= df[7].value_counts()\n",
        "#vector_values= vector_values.drop(labels= 'Viral Vector')\n",
        "print(promoter_values)"
      ],
      "execution_count": null,
      "outputs": [
        {
          "output_type": "stream",
          "name": "stdout",
          "text": [
            "hSyn        276\n",
            "CMV          38\n",
            "no           11\n",
            "CAG           6\n",
            "CaMKII        2\n",
            "Promoter      1\n",
            "Name: 7, dtype: int64\n"
          ]
        }
      ]
    },
    {
      "cell_type": "markdown",
      "metadata": {
        "id": "UCyEmixeVzci"
      },
      "source": [
        "# Promoter Popularity Plot"
      ]
    },
    {
      "cell_type": "code",
      "metadata": {
        "colab": {
          "base_uri": "https://localhost:8080/",
          "height": 248
        },
        "id": "64I1O-4BVdMO",
        "outputId": "2e7ca16a-001b-4cd6-9e94-554d370c9b2d"
      },
      "source": [
        "''' Promoter code '''\n",
        "\n",
        "import matplotlib.pyplot as plt\n",
        "import numpy as np\n",
        "y= np.array(promoter_values[0:5]) \n",
        "mylabels_promoter=[\"hSyn\",\"CMV\",\"Not used\",\"CAG\",\"CaMKII\"]\n",
        "plt.pie(y,labels= mylabels_promoter)\n",
        "\n",
        "plt.savefig('Fig 3')\n",
        "plt.show()"
      ],
      "execution_count": null,
      "outputs": [
        {
          "output_type": "display_data",
          "data": {
            "image/png": "[encoded data removed]",
            "text/plain": [
              "<Figure size 432x288 with 1 Axes>"
            ]
          },
          "metadata": {}
        }
      ]
    },
    {
      "cell_type": "markdown",
      "metadata": {
        "id": "QXgrtLCmZA5Y"
      },
      "source": [
        "# Reporter Popularity Code"
      ]
    },
    {
      "cell_type": "code",
      "metadata": {
        "colab": {
          "base_uri": "https://localhost:8080/"
        },
        "id": "mNfwKrBiWi2n",
        "outputId": "c36aca07-5f3e-40ba-89e6-ee92c2514bb1"
      },
      "source": [
        "'''Reporter Popularity code '''\n",
        "df = pd.DataFrame(data)\n",
        "#print(df[4])\n",
        "reporter_values= df[9].value_counts()\n",
        "#reporter_values= vector_values.drop(labels= 'Viral Vector')\n",
        "print(reporter_values)"
      ],
      "execution_count": null,
      "outputs": [
        {
          "output_type": "stream",
          "name": "stdout",
          "text": [
            "CFP                    125\n",
            "mCherry                101\n",
            "GFP                     49\n",
            "Not Used                22\n",
            "mKO                     12\n",
            "AcGFP                   12\n",
            "mCitrine                 8\n",
            "EYFP                     3\n",
            "Fluorescent Protein      1\n",
            "HA                       1\n",
            "Name: 9, dtype: int64\n"
          ]
        }
      ]
    },
    {
      "cell_type": "markdown",
      "metadata": {
        "id": "D9DyYKx1ZEvX"
      },
      "source": [
        "# Reporter Popularity Plot"
      ]
    },
    {
      "cell_type": "code",
      "metadata": {
        "colab": {
          "base_uri": "https://localhost:8080/",
          "height": 248
        },
        "id": "wMYdWUDXXAga",
        "outputId": "353a85b0-53ba-430c-b142-50eafce762d3"
      },
      "source": [
        "''' reporter Popularity code '''\n",
        "import matplotlib.pyplot as plt\n",
        "import numpy as np\n",
        "y= np.array(reporter_values[0:7]) \n",
        "mylabels_reporter=[\"mCherry\",\"GFP\",\"Not Used\",\"mKO\",\"AcGFP\",\"mCitrine\",\"CFP\"]\n",
        "plt.pie(y,labels= mylabels_reporter)\n",
        "\n",
        "plt.savefig('Fig 4')\n",
        "plt.show()\n"
      ],
      "execution_count": null,
      "outputs": [
        {
          "output_type": "display_data",
          "data": {
            "image/png": "[encoded data removed]",
            "text/plain": [
              "<Figure size 432x288 with 1 Axes>"
            ]
          },
          "metadata": {}
        }
      ]
    },
    {
      "cell_type": "markdown",
      "metadata": {
        "id": "i3Z2ExBoaPh5"
      },
      "source": [
        "# Ligand Popularity"
      ]
    },
    {
      "cell_type": "code",
      "metadata": {
        "colab": {
          "base_uri": "https://localhost:8080/"
        },
        "id": "1FGyo8tvZQUG",
        "outputId": "d032b028-83af-4843-f361-134c04763301"
      },
      "source": [
        "'''Ligand Popularity'''\n",
        "df = pd.DataFrame(data)\n",
        "#print(df[4])\n",
        "ligand_values= df[8].value_counts()\n",
        "#reporter_values= vector_values.drop(labels= 'Viral Vector')\n",
        "print(ligand_values)"
      ],
      "execution_count": null,
      "outputs": [
        {
          "output_type": "stream",
          "name": "stdout",
          "text": [
            "CNO                    128\n",
            "CNO/clozapine          114\n",
            "DCZ / PBS               45\n",
            "DCZ                     24\n",
            "Not Used                15\n",
            "DCZ & CNO/clozapine      7\n",
            "Ligands                  1\n",
            "Name: 8, dtype: int64\n"
          ]
        }
      ]
    },
    {
      "cell_type": "markdown",
      "metadata": {
        "id": "QKONOMAoaTCZ"
      },
      "source": [
        "# Ligand Popularity Plot"
      ]
    },
    {
      "cell_type": "code",
      "metadata": {
        "colab": {
          "base_uri": "https://localhost:8080/",
          "height": 248
        },
        "id": "WcTFsUVBZbaB",
        "outputId": "bf1db60f-b32e-4264-c909-2ce5709fdfb0"
      },
      "source": [
        "''' Ligand popularity pie chart '''\n",
        "import matplotlib.pyplot as plt\n",
        "import numpy as np\n",
        "y= np.array(ligand_values[0:4]) \n",
        "mylabels_ligands=[\"CNO/clozapine\",\"DCZ/PBS\",\"DCZ & CNO/Clozapine\",\"Not Used\"]\n",
        "plt.pie(y,labels= mylabels_ligands)\n",
        "\n",
        "plt.savefig('Fig 5')\n",
        "plt.show()"
      ],
      "execution_count": null,
      "outputs": [
        {
          "output_type": "display_data",
          "data": {
            "image/png": "[encoded data removed]",
            "text/plain": [
              "<Figure size 432x288 with 1 Axes>"
            ]
          },
          "metadata": {}
        }
      ]
    },
    {
      "cell_type": "markdown",
      "metadata": {
        "id": "Lv0XgZXDequ_"
      },
      "source": [
        "# Access to Brain"
      ]
    },
    {
      "cell_type": "code",
      "metadata": {
        "colab": {
          "base_uri": "https://localhost:8080/"
        },
        "id": "GnqduwYvaZa4",
        "outputId": "0b949f45-a170-436b-d845-421d5e8dc07c"
      },
      "source": [
        "''' Access to the brain '''\n",
        "df = pd.DataFrame(data)\n",
        "#print(df[4])\n",
        "Brain_values= df[15].value_counts()\n",
        "#reporter_values= vector_values.drop(labels= 'Viral Vector')\n",
        "print(Brain_values)\n"
      ],
      "execution_count": null,
      "outputs": [
        {
          "output_type": "stream",
          "name": "stdout",
          "text": [
            "Craniotomy         278\n",
            "Burr Hole           40\n",
            "Chamber             12\n",
            "iMRI                 3\n",
            "Access to brain      1\n",
            "Name: 15, dtype: int64\n"
          ]
        }
      ]
    },
    {
      "cell_type": "markdown",
      "metadata": {
        "id": "uKZ_4lCRev0M"
      },
      "source": [
        "# Access to Brain"
      ]
    },
    {
      "cell_type": "code",
      "metadata": {
        "colab": {
          "base_uri": "https://localhost:8080/",
          "height": 248
        },
        "id": "t3MSunytamVj",
        "outputId": "2ecd4d34-e0a7-4422-e115-388fb33edcb3"
      },
      "source": [
        "''' Access to brain Areas plot '''\n",
        "import matplotlib.pyplot as plt\n",
        "import numpy as np\n",
        "y= np.array(Brain_values[0:4]) \n",
        "mylabels_brain=[\"Craniotomy\",\"Burr Hole\",\"Chamber\",\"iMRI\"]\n",
        "plt.pie(y,labels= mylabels_brain)\n",
        "\n",
        "plt.savefig('Fig 6')\n",
        "plt.show()"
      ],
      "execution_count": null,
      "outputs": [
        {
          "output_type": "display_data",
          "data": {
            "image/png": "[encoded data removed]",
            "text/plain": [
              "<Figure size 432x288 with 1 Axes>"
            ]
          },
          "metadata": {}
        }
      ]
    },
    {
      "cell_type": "markdown",
      "metadata": {
        "id": "CiB9wFiYo1ZK"
      },
      "source": [
        "# Published Data"
      ]
    },
    {
      "cell_type": "code",
      "metadata": {
        "colab": {
          "base_uri": "https://localhost:8080/",
          "height": 281
        },
        "id": "vTv1OOWIH5rO",
        "outputId": "a1b0307a-611d-4094-dec5-280eced0fff1"
      },
      "source": [
        "''' Published Data '''\n",
        "import csv\n",
        "import numpy as np\n",
        "import matplotlib.pyplot as plt\n",
        "#def read_file_monkeys():\n",
        "x_m=[]\n",
        "y_m=[]\n",
        "filename_monkeys = open('/content/Monkeys.csv')\n",
        "csv_f = csv.reader(filename_monkeys) # reading the csv file\n",
        "\n",
        "df_m = pd.read_csv(\"/content/Monkeys.csv\")\n",
        "df_m= pd.DataFrame(df_m)\n",
        "plt.plot(df_m.iloc[:,0],df_m.iloc[:,1])\n",
        "plt.scatter(df_m.iloc[:,0],df_m.iloc[:,1])\n",
        "plt.title('NHP')\n",
        "plt.savefig('Fig 7')"
      ],
      "execution_count": null,
      "outputs": [
        {
          "output_type": "display_data",
          "data": {
            "image/png": "[encoded data removed]",
            "text/plain": [
              "<Figure size 432x288 with 1 Axes>"
            ]
          },
          "metadata": {
            "needs_background": "light"
          }
        }
      ]
    },
    {
      "cell_type": "code",
      "metadata": {
        "id": "hLPvHFjso4Xt",
        "colab": {
          "base_uri": "https://localhost:8080/",
          "height": 281
        },
        "outputId": "0c7e93ab-cf16-444b-a538-be0eb63494d1"
      },
      "source": [
        "''' Published Data '''\n",
        "import csv\n",
        "import numpy as np\n",
        "import matplotlib.pyplot as plt\n",
        "#def read_file_monkeys():\n",
        "x_m=[]\n",
        "y_m=[]\n",
        "filename_rodents = open(\"/content/Mouse.csv\")\n",
        "csv_f = csv.reader(filename_rodents) # reading the csv file\n",
        "\n",
        "df_r = pd.read_csv(\"/content/Mouse.csv\")\n",
        "df_r= pd.DataFrame(df_r)\n",
        "plt.plot(df_r.iloc[:,0],df_r.iloc[:,1])\n",
        "plt.scatter(df_r.iloc[:,0],df_r.iloc[:,1])\n",
        "plt.title('Rodents')\n",
        "plt.savefig('Fig 8')"
      ],
      "execution_count": null,
      "outputs": [
        {
          "output_type": "display_data",
          "data": {
            "image/png": "[encoded data removed]",
            "text/plain": [
              "<Figure size 432x288 with 1 Axes>"
            ]
          },
          "metadata": {
            "needs_background": "light"
          }
        }
      ]
    },
    {
      "cell_type": "code",
      "metadata": {
        "id": "z4Dur-TnpY4K",
        "colab": {
          "base_uri": "https://localhost:8080/",
          "height": 295
        },
        "outputId": "7bf83444-6226-47b6-9835-6480594550e5"
      },
      "source": [
        "plt.plot(df_m.iloc[:,0],df_m.iloc[:,1])\n",
        "plt.scatter(df_m.iloc[:,0],df_m.iloc[:,1])\n",
        "plt.plot(df_r.iloc[:,0],df_r.iloc[:,1])\n",
        "plt.scatter(df_r.iloc[:,0],df_r.iloc[:,1])\n",
        "plt.title('Published data')\n",
        "plt.legend([\"NHP\", \"Rodents\"], loc =\"lower right\")\n",
        "plt.xlabel('Years')\n",
        "plt.ylabel('Number of articles published')\n",
        "plt.savefig('Fig 9')"
      ],
      "execution_count": null,
      "outputs": [
        {
          "output_type": "display_data",
          "data": {
            "image/png": "[encoded data removed]",
            "text/plain": [
              "<Figure size 432x288 with 1 Axes>"
            ]
          },
          "metadata": {
            "needs_background": "light"
          }
        }
      ]
    },
    {
      "cell_type": "markdown",
      "metadata": {
        "id": "BuclkyTFCDv3"
      },
      "source": [
        "# Injection Rate"
      ]
    },
    {
      "cell_type": "code",
      "metadata": {
        "id": "ORQPLCJpdibH",
        "colab": {
          "base_uri": "https://localhost:8080/"
        },
        "outputId": "fb160a62-f8d0-486e-e3f2-476aad0592dc"
      },
      "source": [
        "''' Injection rate '''\n",
        "df = pd.DataFrame(data)\n",
        "#print(df[4])\n",
        "rate_values= df[22].value_counts()\n",
        "#reporter_values= vector_values.drop(labels= 'Viral Vector')\n",
        "print(rate_values)\n"
      ],
      "execution_count": null,
      "outputs": [
        {
          "output_type": "stream",
          "name": "stdout",
          "text": [
            "                          173\n",
            "0.2                        70\n",
            "0.25 - 0.5                 18\n",
            "0.4                        16\n",
            "2                          16\n",
            "0.5                        13\n",
            "0.1                        10\n",
            "1                           8\n",
            "0.25 - 0.5                  6\n",
            "0.1-0.2                     2\n",
            "0.1 -0.2                    1\n",
            "Injection Rate(µL/min)      1\n",
            "Name: 22, dtype: int64\n"
          ]
        }
      ]
    },
    {
      "cell_type": "code",
      "metadata": {
        "id": "u52Qm-uYdtdc",
        "colab": {
          "base_uri": "https://localhost:8080/",
          "height": 350
        },
        "outputId": "913f8178-4511-4a75-ce3a-8b1f44b4123e"
      },
      "source": [
        "''' histogram '''\n",
        "data_plot = {'0-250':83,'250-500':40,'500-750':13,'750-900':0,'900-1250':8,'>1250':16}\n",
        "courses = list(data_plot.keys())\n",
        "values = list(data_plot.values())\n",
        "  \n",
        "fig = plt.figure(figsize = (10, 5))\n",
        " \n",
        "# creating the bar plot\n",
        "plt.bar(courses, values, color ='blue',\n",
        "        width = 0.8)\n",
        " \n",
        "plt.xlabel(\"injection rate (nL)\")\n",
        "plt.ylabel(\"No of enteris\")\n",
        "plt.title(\"Injection rate\")\n",
        "plt.show()"
      ],
      "execution_count": null,
      "outputs": [
        {
          "output_type": "display_data",
          "data": {
            "image/png": "[encoded data removed]",
            "text/plain": [
              "<Figure size 720x360 with 1 Axes>"
            ]
          },
          "metadata": {
            "needs_background": "light"
          }
        }
      ]
    },
    {
      "cell_type": "markdown",
      "metadata": {
        "id": "yL5E2iSmsXGZ"
      },
      "source": [
        "Injection Volume\n",
        "\n"
      ]
    },
    {
      "cell_type": "code",
      "metadata": {
        "colab": {
          "base_uri": "https://localhost:8080/"
        },
        "id": "wjkedDflsdo6",
        "outputId": "970afbc4-3ec2-455c-fdcd-b865e5f67426"
      },
      "source": [
        "''' Injection volume '''\n",
        "df = pd.DataFrame(data)\n",
        "#print(df[4])\n",
        "rate_values= df[24].value_counts()\n",
        "#reporter_values= vector_values.drop(labels= 'Viral Vector')\n",
        "print(rate_values)"
      ],
      "execution_count": null,
      "outputs": [
        {
          "output_type": "stream",
          "name": "stdout",
          "text": [
            "                                     120\n",
            "5                                     72\n",
            "3 - 5                                 36\n",
            "3                                     30\n",
            "20                                    16\n",
            "1                                     11\n",
            "3 - 5                                  9\n",
            "6                                      8\n",
            "40                                     8\n",
            "2                                      7\n",
            "30                                     4\n",
            "10                                     4\n",
            "25                                     2\n",
            "24                                     1\n",
            "18                                     1\n",
            "28                                     1\n",
            "15                                     1\n",
            "12                                     1\n",
            "Total Volume per penetration(µl)       1\n",
            "22                                     1\n",
            "Name: 24, dtype: int64\n"
          ]
        }
      ]
    },
    {
      "cell_type": "code",
      "metadata": {
        "colab": {
          "base_uri": "https://localhost:8080/",
          "height": 350
        },
        "id": "Swc9aliBOA0A",
        "outputId": "eb7e9d68-7c07-44ba-a79c-08feb40c9d63"
      },
      "source": [
        "''' histogram '''\n",
        "data_vol = {'1.0-5.0':93,'5.0-10.0':80,'10.0-15.0':5,'15.0-20.0':2,'20.0-25.0':18,'25.0-30.0':3,'30.0-35.0':4,'35.0-40.0':8}\n",
        "courses = list(data_vol.keys())\n",
        "values = list(data_vol.values())\n",
        "  \n",
        "fig = plt.figure(figsize = (10, 5))\n",
        " \n",
        "# creating the bar plot\n",
        "plt.bar(courses, values, color ='blue',\n",
        "        width = 0.8)\n",
        " \n",
        "plt.xlabel(\"Volume injected (uL)\")\n",
        "plt.ylabel(\"No of enteris\")\n",
        "plt.title(\"Injection volume\")\n",
        "plt.show()"
      ],
      "execution_count": null,
      "outputs": [
        {
          "output_type": "display_data",
          "data": {
            "image/png": "[encoded data removed]",
            "text/plain": [
              "<Figure size 720x360 with 1 Axes>"
            ]
          },
          "metadata": {
            "needs_background": "light"
          }
        }
      ]
    }
  ]
}